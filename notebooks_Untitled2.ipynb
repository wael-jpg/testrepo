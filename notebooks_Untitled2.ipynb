{
  "metadata": {
    "language_info": {
      "codemirror_mode": {
        "name": "python",
        "version": 3
      },
      "file_extension": ".py",
      "mimetype": "text/x-python",
      "name": "python",
      "nbconvert_exporter": "python",
      "pygments_lexer": "ipython3",
      "version": "3.8"
    },
    "kernelspec": {
      "name": "python",
      "display_name": "Python (Pyodide)",
      "language": "python"
    }
  },
  "nbformat_minor": 4,
  "nbformat": 4,
  "cells": [
    {
      "cell_type": "code",
      "source": "My Jupyter Notebook on IBM Watson Studio",
      "metadata": {},
      "execution_count": null,
      "outputs": []
    },
    {
      "cell_type": "code",
      "source": "Name: Jane Doe\n\nCurrent Occupation: Data Scientist",
      "metadata": {},
      "execution_count": null,
      "outputs": []
    },
    {
      "cell_type": "code",
      "source": "I am interested in data science because it allows me to use data and statistics to solve real-world problems and make data-driven decisions.\n\n",
      "metadata": {},
      "execution_count": null,
      "outputs": []
    },
    {
      "cell_type": "code",
      "source": "Code Description\nThis code will calculate the sum of 1 and 1.",
      "metadata": {},
      "execution_count": null,
      "outputs": []
    },
    {
      "cell_type": "code",
      "source": "1+1\n",
      "metadata": {},
      "execution_count": null,
      "outputs": []
    },
    {
      "cell_type": "code",
      "source": ".This is a bullet point\n.Another bullet point\n1.This is a numbered list\n2.Another item in the list\nColumn 1\tColumn 2\tColumn 3\nData\tData\tData\nData\tData\tData\n\nprint(\"This is code highlighting\")\n",
      "metadata": {},
      "execution_count": null,
      "outputs": []
    }
  ]
}